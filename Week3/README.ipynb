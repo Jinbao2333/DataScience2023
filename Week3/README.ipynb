{
 "cells": [
  {
   "cell_type": "markdown",
   "id": "0927d9ca-0d5c-4a9a-8b04-b709f5d12c2c",
   "metadata": {},
   "source": [
    "## 第三章"
   ]
  },
  {
   "cell_type": "markdown",
   "id": "3ca28756-694f-4ff2-b2a4-bad3553fcc43",
   "metadata": {},
   "source": [
    "### 1. 编写 Python 程序，完成十到二进制小数的转换。"
   ]
  },
  {
   "cell_type": "code",
   "execution_count": 25,
   "id": "2ace730f-ec16-4ae5-81c4-116f9f21c14a",
   "metadata": {
    "tags": []
   },
   "outputs": [
    {
     "name": "stdin",
     "output_type": "stream",
     "text": [
      "Please enter a decimal float number:  3.864\n"
     ]
    },
    {
     "name": "stdout",
     "output_type": "stream",
     "text": [
      "Its binary representation is:  11.11011101\n"
     ]
    }
   ],
   "source": [
    "def decimal_to_binary(decimal_num, num_places=8):\n",
    "    binary_str = \"\"\n",
    "    whole_part = int(decimal_num)\n",
    "    fractional_part = decimal_num - whole_part\n",
    "\n",
    "    # Convert the whole part to binary\n",
    "    binary_str += bin(whole_part)[2:] + \".\"\n",
    "\n",
    "    # Convert the fractional part to binary\n",
    "    for _ in range(num_places):\n",
    "        fractional_part *= 2\n",
    "        bit = int(fractional_part)\n",
    "        binary_str += str(bit)\n",
    "        fractional_part -= bit\n",
    "\n",
    "    return binary_str\n",
    "\n",
    "# 输入一个十进制小数\n",
    "decimal_num = float(input(\"Please enter a decimal float number: \"))\n",
    "\n",
    "# 将其转换为二进制小数并打印\n",
    "binary_representation = decimal_to_binary(decimal_num)\n",
    "print(\"Its binary representation is: \", binary_representation)\n"
   ]
  },
  {
   "cell_type": "markdown",
   "id": "c6e91d75-a78a-44ad-9993-58fc55e11dfb",
   "metadata": {},
   "source": [
    "---\n",
    "### 2. 编写 Python 程序，产生 $10 - 20$ 的随机浮点数。"
   ]
  },
  {
   "cell_type": "code",
   "execution_count": 26,
   "id": "77e0a596-5f83-4763-9a60-78b1b62b166d",
   "metadata": {
    "tags": []
   },
   "outputs": [
    {
     "name": "stdout",
     "output_type": "stream",
     "text": [
      "Random float number:  17.532420648627458\n"
     ]
    }
   ],
   "source": [
    "# 使用 Python 的 `random` 模块\n",
    "import random\n",
    "\n",
    "# 生成一个随机浮点数，范围在 10 到 20 之间\n",
    "random_float = random.uniform(10, 20)\n",
    "\n",
    "print(\"Random float number: \", random_float)\n"
   ]
  },
  {
   "cell_type": "markdown",
   "id": "47a1aaef-b49f-4d20-9496-07b6a22b32d6",
   "metadata": {},
   "source": [
    "---\n",
    "### 3. 编写一个函数，使其能够用正则表达式的方式简单验证身份证号是否合法。"
   ]
  },
  {
   "cell_type": "code",
   "execution_count": 27,
   "id": "39e255e9-adea-422e-ac8f-c9f87bd16717",
   "metadata": {
    "tags": []
   },
   "outputs": [
    {
     "name": "stdin",
     "output_type": "stream",
     "text": [
      "Please enter the ID number:  310107200405172715\n"
     ]
    },
    {
     "name": "stdout",
     "output_type": "stream",
     "text": [
      "This ID number is valid.\n"
     ]
    }
   ],
   "source": [
    "import re\n",
    "\n",
    "def is_valid_id_number(id_number):\n",
    "    pattern = r\"(^\\d{15}$)|(^\\d{17}([0-9]|x)$)\"\n",
    "\n",
    "    if re.match(pattern, id_number, re.IGNORECASE):\n",
    "        return True\n",
    "    else:\n",
    "        return False\n",
    "\n",
    "id_number = input(\"Please enter the ID number: \")\n",
    "\n",
    "if is_valid_id_number(id_number):\n",
    "    print(\"This ID number is valid.\")\n",
    "else:\n",
    "    print(\"This ID number is NOT valid.\")\n"
   ]
  },
  {
   "cell_type": "markdown",
   "id": "ee4257d9-6eac-4cda-94d4-8258cddc3d02",
   "metadata": {},
   "source": [
    "---\n",
    "### 4. 实现一个链表，使其能够完成增删改查的操作。"
   ]
  },
  {
   "cell_type": "code",
   "execution_count": 28,
   "id": "183b05d9-5a44-4bd5-bbcc-886dc145000e",
   "metadata": {
    "tags": []
   },
   "outputs": [
    {
     "name": "stdout",
     "output_type": "stream",
     "text": [
      "Linked List Contents:\n",
      "1 -> 2 -> 3 -> None\n",
      "2 exists in the linked list\n",
      "Linked list after deleting 2:\n",
      "1 -> 3 -> None\n",
      "Linked list after updating element 1 to 4:\n",
      "4 -> 3 -> None\n"
     ]
    }
   ],
   "source": [
    "class Node:\n",
    "    def __init__(self, data):\n",
    "        self.data = data\n",
    "        self.next = None\n",
    "\n",
    "class LinkedList:\n",
    "    def __init__(self):\n",
    "        self.head = None\n",
    "\n",
    "    def append(self, data):\n",
    "        new_node = Node(data)\n",
    "        if not self.head:\n",
    "            self.head = new_node\n",
    "        else:\n",
    "            current = self.head\n",
    "            while current.next:\n",
    "                current = current.next\n",
    "            current.next = new_node\n",
    "\n",
    "    def display(self):\n",
    "        current = self.head\n",
    "        while current:\n",
    "            print(current.data, end=\" -> \")\n",
    "            current = current.next\n",
    "        print(\"None\")\n",
    "\n",
    "    def search(self, target):\n",
    "        current = self.head\n",
    "        while current:\n",
    "            if current.data == target:\n",
    "                return True\n",
    "            current = current.next\n",
    "        return False\n",
    "\n",
    "    def delete(self, target):\n",
    "        if not self.head:\n",
    "            return\n",
    "        if self.head.data == target:\n",
    "            self.head = self.head.next\n",
    "            return\n",
    "\n",
    "        current = self.head\n",
    "        while current.next:\n",
    "            if current.next.data == target:\n",
    "                current.next = current.next.next\n",
    "                return\n",
    "            current = current.next\n",
    "\n",
    "    def update(self, target, new_data):\n",
    "        current = self.head\n",
    "        while current:\n",
    "            if current.data == target:\n",
    "                current.data = new_data\n",
    "                return\n",
    "\n",
    "# 创建一个链表\n",
    "my_list = LinkedList()\n",
    "\n",
    "# 添加元素\n",
    "my_list.append(1)\n",
    "my_list.append(2)\n",
    "my_list.append(3)\n",
    "\n",
    "# 打印列表元素\n",
    "print(\"Linked List Contents:\")\n",
    "my_list.display()\n",
    "\n",
    "# 查找\n",
    "target = 2\n",
    "if my_list.search(target):\n",
    "    print(f\"{target} exists in the linked list\")\n",
    "else:\n",
    "    print(f\"{target} does not exist in the linked list\")\n",
    "\n",
    "# 删除\n",
    "my_list.delete(target)\n",
    "print(f\"Linked list after deleting {target}:\")\n",
    "my_list.display()\n",
    "\n",
    "# 更新\n",
    "new_data = 4\n",
    "my_list.update(1, new_data)\n",
    "print(f\"Linked list after updating element 1 to {new_data}:\")\n",
    "my_list.display()\n"
   ]
  },
  {
   "cell_type": "markdown",
   "id": "7c0aa062-d5c2-4f8a-bb8a-92d943701aaa",
   "metadata": {},
   "source": [
    "---\n",
    "### 5. 编写 Python 程序，通过 `for` 循环，用 `print` 语句输出 $1$ 到 $100$ 之间的所有偶数。"
   ]
  },
  {
   "cell_type": "code",
   "execution_count": 29,
   "id": "561ba1c1-b2f4-41a1-b38e-c4fa9953c76b",
   "metadata": {
    "tags": []
   },
   "outputs": [
    {
     "name": "stdout",
     "output_type": "stream",
     "text": [
      "All the even number between 1 and 100 are: \n",
      "2 4 6 8 10 12 14 16 18 20 22 24 26 28 30 32 34 36 38 40 42 44 46 48 50 52 54 56 58 60 62 64 66 68 70 72 74 76 78 80 82 84 86 88 90 92 94 96 98 100 "
     ]
    }
   ],
   "source": [
    "print(\"All the even number between 1 and 100 are: \")\n",
    "for number in range(1, 101):\n",
    "    if number % 2 == 0:\n",
    "        print(number, end = \" \")\n"
   ]
  },
  {
   "cell_type": "markdown",
   "id": "3060b04e-479a-4940-8e44-87a14c0da9d3",
   "metadata": {},
   "source": [
    "---\n",
    "### 6. 用 `if` 语句实现百分制转等级制（考试成绩， $60$ 分以下为不合格， $60-74$ 分为合格， $75-89$ 分为良好， $90$ 分以上为优秀）。"
   ]
  },
  {
   "cell_type": "code",
   "execution_count": 30,
   "id": "bc0c811f-362a-4900-b6f5-cb90643d6f8b",
   "metadata": {
    "tags": []
   },
   "outputs": [
    {
     "name": "stdin",
     "output_type": "stream",
     "text": [
      "Please enter the exam score:  62.5\n"
     ]
    },
    {
     "name": "stdout",
     "output_type": "stream",
     "text": [
      "The grade corresponding to the score 62.5 is: Pass.\n"
     ]
    }
   ],
   "source": [
    "score = float(input(\"Please enter the exam score: \"))\n",
    "\n",
    "if score < 60:\n",
    "    grade = \"Fail\"\n",
    "elif score >= 60 and score <= 74:\n",
    "    grade = \"Pass\"\n",
    "elif score >= 75 and score <= 89:\n",
    "    grade = \"Good\"\n",
    "else:\n",
    "    grade = \"Excellent\"\n",
    "\n",
    "print(f\"The grade corresponding to the score {score} is: {grade}.\")\n"
   ]
  },
  {
   "cell_type": "markdown",
   "id": "7d294006-83fc-437f-8acd-501e0fbb6824",
   "metadata": {},
   "source": [
    "### 7. 编写 Python 程序，求两个整数的最大公约数。"
   ]
  },
  {
   "cell_type": "code",
   "execution_count": 1,
   "id": "8a863e9e-6ba2-49aa-a8c9-bd772fa881a9",
   "metadata": {
    "tags": []
   },
   "outputs": [
    {
     "name": "stdin",
     "output_type": "stream",
     "text": [
      "Please enter the first number:  50\n",
      "Please enter the second number:  30\n"
     ]
    },
    {
     "name": "stdout",
     "output_type": "stream",
     "text": [
      "The greatest common divisor of 50 and 30 is: 10\n"
     ]
    }
   ],
   "source": [
    "def gcd(a, b):\n",
    "    while b:\n",
    "        a, b = b, a % b\n",
    "    return a\n",
    "\n",
    "# 输入两个整数\n",
    "num1 = int(input(\"Please enter the first number: \"))\n",
    "num2 = int(input(\"Please enter the second number: \"))\n",
    "\n",
    "# 计算最大公约数\n",
    "result = gcd(num1, num2)\n",
    "\n",
    "# 输出最大公约数\n",
    "print(f\"The greatest common divisor of {num1} and {num2} is: {result}\")\n"
   ]
  },
  {
   "cell_type": "markdown",
   "id": "1add1194-42aa-4ebf-959b-93e7c5122efb",
   "metadata": {},
   "source": [
    "---\n",
    "### 8. 使用 Python 随机生成多组长度递增的随机数列，使用不同的排序算法（如选择排序和归并排序）对这些数列的数据排序，请分析不同排序算法在不同长度数列下的运行效果。"
   ]
  },
  {
   "cell_type": "code",
   "execution_count": 31,
   "id": "0cd07d1a-4bdd-4264-877a-d9bba5492001",
   "metadata": {
    "tags": []
   },
   "outputs": [
    {
     "name": "stdout",
     "output_type": "stream",
     "text": [
      "Length: 10\n",
      "Selection Sort Time: 1.0967254638671875e-05 seconds\n",
      "Merge Sort Time: 2.1696090698242188e-05 seconds\n",
      "\n",
      "Length: 100\n",
      "Selection Sort Time: 0.00025391578674316406 seconds\n",
      "Merge Sort Time: 0.00021648406982421875 seconds\n",
      "\n",
      "Length: 1000\n",
      "Selection Sort Time: 0.027174711227416992 seconds\n",
      "Merge Sort Time: 0.0024199485778808594 seconds\n",
      "\n",
      "Length: 10000\n",
      "Selection Sort Time: 2.7958223819732666 seconds\n",
      "Merge Sort Time: 0.02877974510192871 seconds\n",
      "\n"
     ]
    }
   ],
   "source": [
    "import random\n",
    "import time\n",
    "\n",
    "# 生成随机数列\n",
    "def generate_random_list(length):\n",
    "    return [random.randint(1, 1000) for _ in range(length)]\n",
    "\n",
    "# 选择排序\n",
    "def selection_sort(arr):\n",
    "    n = len(arr)\n",
    "    for i in range(n):\n",
    "        min_index = i\n",
    "        for j in range(i + 1, n):\n",
    "            if arr[j] < arr[min_index]:\n",
    "                min_index = j\n",
    "        arr[i], arr[min_index] = arr[min_index], arr[i]\n",
    "\n",
    "# 归并排序\n",
    "def merge_sort(arr):\n",
    "    if len(arr) > 1:\n",
    "        mid = len(arr) // 2\n",
    "        left_half = arr[:mid]\n",
    "        right_half = arr[mid:]\n",
    "\n",
    "        merge_sort(left_half)\n",
    "        merge_sort(right_half)\n",
    "\n",
    "        i = j = k = 0\n",
    "\n",
    "        while i < len(left_half) and j < len(right_half):\n",
    "            if left_half[i] < right_half[j]:\n",
    "                arr[k] = left_half[i]\n",
    "                i += 1\n",
    "            else:\n",
    "                arr[k] = right_half[j]\n",
    "                j += 1\n",
    "            k += 1\n",
    "\n",
    "        while i < len(left_half):\n",
    "            arr[k] = left_half[i]\n",
    "            i += 1\n",
    "            k += 1\n",
    "\n",
    "        while j < len(right_half):\n",
    "            arr[k] = right_half[j]\n",
    "            j += 1\n",
    "            k += 1\n",
    "\n",
    "# 测试不同长度的随机数列排序性能\n",
    "lengths = [10, 100, 1000, 10000]\n",
    "\n",
    "for length in lengths:\n",
    "    random_list = generate_random_list(length)\n",
    "\n",
    "    # 选择排序\n",
    "    selection_start_time = time.time()\n",
    "    selection_sort(random_list.copy())  # 使用.copy()以免对原始数据进行排序\n",
    "    selection_end_time = time.time()\n",
    "    selection_time = selection_end_time - selection_start_time\n",
    "\n",
    "    # 归并排序\n",
    "    merge_start_time = time.time()\n",
    "    merge_sort(random_list.copy())  # 使用.copy()以免对原始数据进行排序\n",
    "    merge_end_time = time.time()\n",
    "    merge_time = merge_end_time - merge_start_time\n",
    "\n",
    "    print(f\"Length: {length}\")\n",
    "    print(f\"Selection Sort Time: {selection_time} seconds\")\n",
    "    print(f\"Merge Sort Time: {merge_time} seconds\")\n",
    "    print()\n"
   ]
  },
  {
   "cell_type": "markdown",
   "id": "65fa509d-46f5-44d7-b8ec-838466914f23",
   "metadata": {},
   "source": [
    "#### 根据上面的运行数据，可以得出以下结论：\n",
    "\n",
    " - 选择排序的性能随着数据长度的增加急剧下降。在长度为 10 的数据集上，选择排序的运行时间非常短。但随着数据长度的增加，选择排序的运行时间迅速增加，表现出 $O(n^2)$ 级别的时间复杂度。\n",
    "\n",
    " - 归并排序在不同数据长度下的性能相对稳定，表现为较低的运行时间。它表现出 $O(n \\log n)$ 级别的时间复杂度，因此随着数据长度的增加，运行时间的增长较为缓慢。\n",
    "\n",
    "通过比较选择排序和归并排序的运行时间，可以明显看出：归并排序的效率明显高于选择排序，特别是在较大的数据集上。选择排序在大型数据集上的性能表现非常差，处于几乎不可用的状态。"
   ]
  },
  {
   "cell_type": "markdown",
   "id": "03810536-ee00-4944-b5e3-405bb122eef7",
   "metadata": {},
   "source": [
    "---\n",
    "### 9. 对于数组 $A[0, 1, …, n - 1]$ ，请构建一个数组 $B[0, 1, …, n - 1]$ ，其中 $B$ 中的元素 $B[i] = A[0] × A[1] × … × A[i - 1] × A[i + 1] × … × A[n - 1]$ 。请注意，不能使用除法。"
   ]
  },
  {
   "cell_type": "code",
   "execution_count": 2,
   "id": "a3e619ee-fa18-4191-86b7-8a6203226cc9",
   "metadata": {},
   "outputs": [
    {
     "name": "stdin",
     "output_type": "stream",
     "text": [
      "Please enter the elements of array A, splitted with space： 2 3 4 5\n"
     ]
    },
    {
     "name": "stdout",
     "output_type": "stream",
     "text": [
      "[60, 40, 30, 24]\n"
     ]
    }
   ],
   "source": [
    "def constructArrayB(A):\n",
    "    n = len(A)\n",
    "    left = [1] * n\n",
    "    right = [1] * n\n",
    "    B = [1] * n\n",
    "\n",
    "    # 计算左边累积乘积\n",
    "    left_product = 1\n",
    "    for i in range(1, n):\n",
    "        left_product *= A[i - 1]\n",
    "        left[i] = left_product\n",
    "\n",
    "    # 计算右边累积乘积\n",
    "    right_product = 1\n",
    "    for i in range(n - 2, -1, -1):\n",
    "        right_product *= A[i + 1]\n",
    "        right[i] = right_product\n",
    "\n",
    "    # 计算B数组\n",
    "    for i in range(n):\n",
    "        B[i] = left[i] * right[i]\n",
    "\n",
    "    return B\n",
    "\n",
    "# 测试\n",
    "input_str = input(\"Please enter the elements of array A, splitted with space：\")\n",
    "A = list(map(int, input_str.split()))\n",
    "B = constructArrayB(A)\n",
    "print(B)\n"
   ]
  },
  {
   "cell_type": "markdown",
   "id": "1ee80351-75c4-41b0-88c5-6429fb751095",
   "metadata": {},
   "source": [
    "---\n",
    "### 10. 用 Python 实现函数，将两个链表合并为一个新的有序链表并返回。新链表是通过拼接给定的两个链表的所有节点组成的。如输入：$1$->$2$->$4$, $1$->$3$->$4$, 输出：$1$->$1$->$2$->$3$->$4$->$4$。"
   ]
  },
  {
   "cell_type": "code",
   "execution_count": 3,
   "id": "ed8959b5-372e-44d2-89cd-7c84105de6e9",
   "metadata": {
    "tags": []
   },
   "outputs": [
    {
     "name": "stdin",
     "output_type": "stream",
     "text": [
      "Please enter the elements of List 1 (splitted with space):  2 4 5\n",
      "Please enter the elements of List 2 (splitted with space):  1 6 8\n"
     ]
    },
    {
     "name": "stdout",
     "output_type": "stream",
     "text": [
      "Merged list is: \n",
      "1 -> 2 -> 4 -> 5 -> 6 -> 8 "
     ]
    }
   ],
   "source": [
    "class ListNode:\n",
    "    def __init__(self, val=0, next=None):\n",
    "        self.val = val\n",
    "        self.next = next\n",
    "\n",
    "def mergeTwoLists(l1, l2):\n",
    "    dummy = ListNode(-1)\n",
    "    current = dummy\n",
    "\n",
    "    while l1 and l2:\n",
    "        if l1.val < l2.val:\n",
    "            current.next = l1\n",
    "            l1 = l1.next\n",
    "        else:\n",
    "            current.next = l2\n",
    "            l2 = l2.next\n",
    "        current = current.next\n",
    "\n",
    "    if l1:\n",
    "        current.next = l1\n",
    "    else:\n",
    "        current.next = l2\n",
    "\n",
    "    return dummy.next\n",
    "\n",
    "input_str1 = input(\"Please enter the elements of List 1 (splitted with space): \")\n",
    "elements1 = list(map(int, input_str1.split()))\n",
    "l1 = ListNode(elements1[0])\n",
    "current = l1\n",
    "for val in elements1[1:]:\n",
    "    current.next = ListNode(val)\n",
    "    current = current.next\n",
    "\n",
    "input_str2 = input(\"Please enter the elements of List 2 (splitted with space): \")\n",
    "elements2 = list(map(int, input_str2.split()))\n",
    "l2 = ListNode(elements2[0])\n",
    "current = l2\n",
    "for val in elements2[1:]:\n",
    "    current.next = ListNode(val)\n",
    "    current = current.next\n",
    "\n",
    "merged_list = mergeTwoLists(l1, l2)\n",
    "\n",
    "print(\"Merged list is: \")\n",
    "while merged_list:\n",
    "    if merged_list.next:\n",
    "        print(merged_list.val, end=\" -> \")\n",
    "    else:\n",
    "        print(merged_list.val, end=\" \")\n",
    "    merged_list = merged_list.next\n"
   ]
  },
  {
   "cell_type": "markdown",
   "id": "f171f2a7-8570-4720-8810-474c1239b67b",
   "metadata": {},
   "source": [
    "---\n",
    "### 11. 请使用 Python 的列表类型，编写代码模拟完成堆栈的功能。"
   ]
  },
  {
   "cell_type": "code",
   "execution_count": 4,
   "id": "7a5c2fae-c9a5-4286-a07e-69bb79d839f4",
   "metadata": {
    "tags": []
   },
   "outputs": [
    {
     "name": "stdout",
     "output_type": "stream",
     "text": [
      "Popped element:  4\n",
      "Top element:  2\n",
      "Is the stack empty:  False\n",
      "Stack size:  2\n"
     ]
    }
   ],
   "source": [
    "class Stack:\n",
    "    def __init__(self):\n",
    "        self.items = []\n",
    "\n",
    "    def push(self, item):\n",
    "        self.items.append(item)\n",
    "\n",
    "    def pop(self):\n",
    "        if not self.is_empty():\n",
    "            return self.items.pop()\n",
    "        else:\n",
    "            return None  # 如果栈为空，返回 None\n",
    "\n",
    "    def peek(self):\n",
    "        if not self.is_empty():\n",
    "            return self.items[-1]\n",
    "        else:\n",
    "            return None  # 如果栈为空，返回 None\n",
    "\n",
    "    def is_empty(self):\n",
    "        return len(self.items) == 0\n",
    "\n",
    "    def size(self):\n",
    "        return len(self.items)\n",
    "\n",
    "# Create an empty stack\n",
    "stack = Stack()\n",
    "\n",
    "# Push operations\n",
    "stack.push(1)\n",
    "stack.push(2)\n",
    "stack.push(4)\n",
    "\n",
    "# Pop operation\n",
    "top_element = stack.pop()\n",
    "print(\"Popped element: \", top_element)\n",
    "\n",
    "# Peek at the top element\n",
    "top_element = stack.peek()\n",
    "print(\"Top element: \", top_element)\n",
    "\n",
    "# Check if the stack is empty\n",
    "is_empty = stack.is_empty()\n",
    "print(\"Is the stack empty: \", is_empty)\n",
    "\n",
    "# Get the size of the stack\n",
    "stack_size = stack.size()\n",
    "print(\"Stack size: \", stack_size)\n"
   ]
  },
  {
   "cell_type": "markdown",
   "id": "77cc1b3b-3023-4f90-a521-45da5f433ddb",
   "metadata": {},
   "source": [
    "---\n",
    "### 12. 对于两个二叉树，如果它们具有相同的结构，且节点有相同的值，那么我们认为两个二叉树相同，请编写函数检查两个树是否相同。"
   ]
  },
  {
   "cell_type": "code",
   "execution_count": 11,
   "id": "182fb725-2a5b-4ffc-a005-f8582f326947",
   "metadata": {
    "tags": []
   },
   "outputs": [
    {
     "name": "stdout",
     "output_type": "stream",
     "text": [
      " - Is the two pairs of trees the same ? \n",
      " - True  and  False .\n"
     ]
    }
   ],
   "source": [
    "class TreeNode:\n",
    "    def __init__(self, val=0, left=None, right=None):\n",
    "        self.val = val\n",
    "        self.left = left\n",
    "        self.right = right\n",
    "\n",
    "def isSameTree(p, q):\n",
    "    # 如果两个节点都为空，那么它们相同\n",
    "    if not p and not q:\n",
    "        return True\n",
    "    # 如果只有一个节点为空，则不同\n",
    "    if not p or not q:\n",
    "        return False\n",
    "    # 当前节点的值必须相等，且左右子树也必须相同\n",
    "    return p.val == q.val and isSameTree(p.left, q.left) and isSameTree(p.right, q.right)\n",
    "\n",
    "# e.g.\n",
    "\n",
    "# 创建两棵相同的二叉树\n",
    "tree1 = TreeNode(1, TreeNode(2), TreeNode(3))\n",
    "tree2 = TreeNode(1, TreeNode(2), TreeNode(3))\n",
    "\n",
    "# 创建两棵不相同的二叉树\n",
    "tree3 = TreeNode(1, TreeNode(2), TreeNode(3))\n",
    "tree4 = TreeNode(1, TreeNode(2), TreeNode(4))\n",
    "\n",
    "# 检查两棵树是否相同\n",
    "result1 = isSameTree(tree1, tree2)\n",
    "result2 = isSameTree(tree3, tree4)\n",
    "print(\" - Is the two pairs of trees the same ? \\n -\", result1 , \" and \", result2, \".\")  # 输出\n"
   ]
  },
  {
   "cell_type": "markdown",
   "id": "570577d6-ab3d-4dbb-beea-d33dd8137b7b",
   "metadata": {},
   "source": [
    "---\n",
    "### 13. 请使用 Python 编程实现图的广度优先搜索（BFS）算法。"
   ]
  },
  {
   "cell_type": "code",
   "execution_count": 32,
   "id": "33b5678a-b672-47ff-b5bd-c09cc7a160df",
   "metadata": {
    "tags": []
   },
   "outputs": [
    {
     "name": "stdout",
     "output_type": "stream",
     "text": [
      "Breadth First Traversal (starting from node 2):\n",
      "2 0 3 1 "
     ]
    }
   ],
   "source": [
    "from collections import defaultdict, deque\n",
    "\n",
    "class Graph:\n",
    "    def __init__(self):\n",
    "        self.graph = defaultdict(list)\n",
    "\n",
    "    def add_edge(self, u, v):\n",
    "        self.graph[u].append(v)\n",
    "\n",
    "    def bfs(self, start_node):\n",
    "        visited = set()\n",
    "        queue = deque()\n",
    "\n",
    "        visited.add(start_node)\n",
    "        queue.append(start_node)\n",
    "\n",
    "        while queue:\n",
    "            node = queue.popleft()\n",
    "            print(node, end=\" \")\n",
    "\n",
    "            for neighbor in self.graph[node]:\n",
    "                if neighbor not in visited:\n",
    "                    visited.add(neighbor)\n",
    "                    queue.append(neighbor)\n",
    "\n",
    "# 创建一个图并手动地添加边\n",
    "g = Graph()\n",
    "g.add_edge(0, 1)\n",
    "g.add_edge(0, 2)\n",
    "g.add_edge(1, 2)\n",
    "g.add_edge(2, 0)\n",
    "g.add_edge(2, 3)\n",
    "g.add_edge(3, 3)\n",
    "\n",
    "# 从节点2开始进行BFS遍历\n",
    "print(\"Breadth First Traversal (starting from node 2):\")\n",
    "g.bfs(2)\n"
   ]
  },
  {
   "cell_type": "markdown",
   "id": "6a4d8208-1c70-4968-bb7f-74202607eae3",
   "metadata": {},
   "source": [
    "---\n",
    "## 第四章"
   ]
  },
  {
   "cell_type": "markdown",
   "id": "93f0c14d-4225-49c3-b5e9-241d3cb0725f",
   "metadata": {},
   "source": [
    "### 1. 编写 Python 程序，判断输入 a 是否为质数。"
   ]
  },
  {
   "cell_type": "code",
   "execution_count": 33,
   "id": "60a3fbb3-8b39-473c-8192-ff05c45ca2d0",
   "metadata": {},
   "outputs": [
    {
     "name": "stdin",
     "output_type": "stream",
     "text": [
      "Please enter an integer:  37\n"
     ]
    },
    {
     "name": "stdout",
     "output_type": "stream",
     "text": [
      "37 is a prime.\n"
     ]
    }
   ],
   "source": [
    "def is_prime(a):\n",
    "    if a <= 1:\n",
    "        return False  # 质数必须大于 1\n",
    "    if a <= 3:\n",
    "        return True  # 2 和 3 是质数\n",
    "\n",
    "    if a % 2 == 0 or a % 3 == 0:\n",
    "        return False  # 如果 a 能被 2 或 3 整除，它不是质数\n",
    "\n",
    "    i = 5\n",
    "    while i * i <= a:\n",
    "        if a % i == 0 or a % (i + 2) == 0:\n",
    "            return False\n",
    "        i += 6\n",
    "\n",
    "    return True  # 如果 a 不能被 2 、 3 以及其他 6k±1 的形式整除，它是质数\n",
    "\n",
    "# 输入整数 a\n",
    "a = int(input(\"Please enter an integer: \"))\n",
    "\n",
    "# 判断 a 是否为质数\n",
    "if is_prime(a):\n",
    "    print(f\"{a} is a prime.\")\n",
    "else:\n",
    "    print(f\"{a} is not a prime.\")\n"
   ]
  },
  {
   "cell_type": "markdown",
   "id": "18f905a4-5971-4152-9763-9b005fa6077c",
   "metadata": {
    "tags": []
   },
   "source": [
    "---\n",
    "### 2. 思考如何利用 Python 获取程序执行时间并实现。"
   ]
  },
  {
   "cell_type": "markdown",
   "id": "6e63cb65-dfa3-4ef4-a324-e53a72fd6c69",
   "metadata": {
    "tags": []
   },
   "source": [
    "#### 可以使用 `time` 模块来计量特定代码块的执行时间。"
   ]
  },
  {
   "cell_type": "code",
   "execution_count": 15,
   "id": "a78be266-2a9f-401f-9453-3afbe8678346",
   "metadata": {
    "tags": []
   },
   "outputs": [
    {
     "name": "stdout",
     "output_type": "stream",
     "text": [
      "Execution time of this program: 0.29888391494750977s.\n"
     ]
    }
   ],
   "source": [
    "import time\n",
    "\n",
    "# 记录开始时间\n",
    "start_time = time.time()\n",
    "\n",
    "# 模拟一些需要执行时间的操作\n",
    "for _ in range(10000000):\n",
    "    pass\n",
    "\n",
    "# 记录结束时间\n",
    "end_time = time.time()\n",
    "\n",
    "# 计算执行时间\n",
    "execution_time = end_time - start_time\n",
    "\n",
    "# 打印执行时间\n",
    "print(f\"Execution time of this program: {execution_time}s.\")\n"
   ]
  },
  {
   "cell_type": "markdown",
   "id": "60e03d2e-0f2c-4a46-96bb-4b759e165957",
   "metadata": {},
   "source": [
    "---\n",
    "### 3. 试分析直接插入排序算法的流程。画出流程图，并用 Python 实现该算法。"
   ]
  },
  {
   "cell_type": "markdown",
   "id": "7e5b802f-b335-44b3-866b-07fa42ecf313",
   "metadata": {},
   "source": [
    "![插入排序流程图](https://www.w3xue.com/files/a20199/20190924113036555.png)"
   ]
  },
  {
   "cell_type": "code",
   "execution_count": 24,
   "id": "5a1aacfa-9d8c-4861-970e-097b24cf02a6",
   "metadata": {},
   "outputs": [
    {
     "name": "stdin",
     "output_type": "stream",
     "text": [
      "Please enter several integers:  7 6 5 4 3\n"
     ]
    },
    {
     "name": "stdout",
     "output_type": "stream",
     "text": [
      "Generate the array:  [7, 6, 5, 4, 3]\n",
      "\n",
      "Sorting ... \n",
      "[6, 7, 5, 4, 3]\n",
      "[5, 6, 7, 4, 3]\n",
      "[4, 5, 6, 7, 3]\n",
      "[3, 4, 5, 6, 7]\n",
      "\n",
      "Sorted array: [3, 4, 5, 6, 7]\n"
     ]
    }
   ],
   "source": [
    "def insertion_sort(arr):\n",
    "    for i in range(1, len(arr)):\n",
    "        current_element = arr[i]\n",
    "        j = i - 1\n",
    "\n",
    "        while j >= 0 and arr[j] > current_element:\n",
    "            arr[j + 1] = arr[j]\n",
    "            j = j - 1\n",
    "\n",
    "        arr[j + 1] = current_element\n",
    "        print(arr)\n",
    "\n",
    "# 测试排序\n",
    "arr = list(map(int, input(\"Please enter several integers: \").split()))\n",
    "print(\"Generate the array: \", arr)\n",
    "print(\"\\nSorting ... \")\n",
    "\n",
    "insertion_sort(arr)\n",
    "\n",
    "print(\"\\nSorted array:\", arr)\n"
   ]
  },
  {
   "cell_type": "markdown",
   "id": "af761a83-e463-4246-9473-63a98f9a99b3",
   "metadata": {},
   "source": [
    "---\n",
    "### 4. 以下给出了选择排序算法的 Python 实现，求出其时间复杂度与空间复杂度。"
   ]
  },
  {
   "cell_type": "code",
   "execution_count": null,
   "id": "024b4c06-ebd6-47cb-9af3-0476560d2339",
   "metadata": {},
   "outputs": [],
   "source": [
    "def select_sort(array):\n",
    "    for i in range(len(array)):\n",
    "        x = i # min index\n",
    "        for j in range(i + 1, len(array)):\n",
    "            if array[j] < array[x]:\n",
    "                x = j\n",
    "        array[i], array[x] = array[x], array[i]\n",
    "    \n",
    "    return array\n"
   ]
  },
  {
   "cell_type": "markdown",
   "id": "988b6206-8691-43b5-b8fc-f97b10db16fa",
   "metadata": {},
   "source": [
    "#### 复杂度分析：\n",
    "\n",
    " - 时间复杂度：选择排序的时间复杂度是 $O(n^2)$ ，其中n是数组的长度。这是因为算法包含两层嵌套循环，外层循环运行 $n$ 次，内层循环运行 $n-1、n-2、...、2、1$ 次。这导致总的比较和交换次数是 $n(n - 1)$ 次。\n",
    "\n",
    " - 空间复杂度：选择排序的空间复杂度是 $O(1)$ ，因为它仅使用了固定数量的额外空间，与输入数组的大小无关。算法在原地进行排序，不需要额外的数据结构来存储中间结果。"
   ]
  }
 ],
 "metadata": {
  "kernelspec": {
   "display_name": "Python 3 (ipykernel)",
   "language": "python",
   "name": "python3"
  },
  "language_info": {
   "codemirror_mode": {
    "name": "ipython",
    "version": 3
   },
   "file_extension": ".py",
   "mimetype": "text/x-python",
   "name": "python",
   "nbconvert_exporter": "python",
   "pygments_lexer": "ipython3",
   "version": "3.10.10"
  }
 },
 "nbformat": 4,
 "nbformat_minor": 5
}
