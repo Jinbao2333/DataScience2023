{
 "cells": [
  {
   "cell_type": "markdown",
   "id": "776e39f7-506e-4c02-ae1a-0347b14396d3",
   "metadata": {},
   "source": [
    "## 1. \n",
    "使用 numpy 生成服从标准正态分布的 100 个样本。"
   ]
  },
  {
   "cell_type": "code",
   "execution_count": 1,
   "id": "baf88794-90ce-49cf-a245-827aa720c260",
   "metadata": {
    "tags": []
   },
   "outputs": [
    {
     "data": {
      "text/plain": [
       "array([ 0.25239187,  2.17005911,  0.11332116,  1.93674265,  1.71560608,\n",
       "       -1.33386767, -0.58091723, -0.2131219 , -1.34473049, -0.80011064,\n",
       "        1.02307121, -1.30457576, -0.347703  ,  0.46500197,  1.17687179,\n",
       "       -0.61973667, -2.02440312, -0.17294587, -0.7012008 , -0.30799126,\n",
       "        0.56186844, -1.36968997,  0.42610998, -1.38065996,  3.01945188,\n",
       "       -0.25507434,  0.68806757,  1.49070321,  0.41419305,  0.54493149,\n",
       "        1.0940149 ,  0.99534694, -2.43824181,  0.15939845,  1.26546265,\n",
       "        1.56254536, -0.9480256 , -0.175028  , -0.5148956 ,  1.05233533,\n",
       "        2.1069828 ,  0.23261019, -0.12401075, -0.1922789 , -0.16857788,\n",
       "        0.51937179, -0.38499538,  0.37380199, -0.64064692,  0.75288502,\n",
       "        1.20283704,  0.44227694,  1.99182778, -1.7660848 ,  0.54199397,\n",
       "       -0.30015356,  0.533462  ,  0.83304477, -1.02266734, -0.12855159,\n",
       "        0.44193586,  0.53506771, -0.22179506, -0.29584693, -2.21435955,\n",
       "       -1.95009319,  0.16886454,  0.49578871, -0.64472578, -0.56188164,\n",
       "       -0.11789016, -0.71076966,  1.70860105,  1.13041973, -1.07301624,\n",
       "       -0.92120075, -0.12829159, -1.70198791, -0.48395779, -2.12347624,\n",
       "        1.11482005, -1.42320435,  0.13861454,  0.27342206, -0.32655428,\n",
       "       -1.1273452 , -0.79678126, -0.39354402, -0.01240975, -1.57103337,\n",
       "       -1.68572451,  0.645703  ,  0.3244283 ,  0.36699974, -1.23079021,\n",
       "        0.89609945,  0.41831123,  1.27309746,  1.45995112,  0.78470236])"
      ]
     },
     "execution_count": 1,
     "metadata": {},
     "output_type": "execute_result"
    }
   ],
   "source": [
    "import numpy as np\n",
    "\n",
    "data = np.random.randn(100)\n",
    "\n",
    "data"
   ]
  },
  {
   "cell_type": "markdown",
   "id": "dc2ebfbb-3ba6-4f6a-b7dc-fd9618f8cefc",
   "metadata": {},
   "source": [
    "## 2. \n",
    "为样本绘图展示。"
   ]
  },
  {
   "cell_type": "code",
   "execution_count": 3,
   "id": "8822f43b-5550-44a2-b26d-007454a49132",
   "metadata": {
    "tags": []
   },
   "outputs": [
    {
     "data": {
      "image/png": "[encoded data removed]",
      "text/plain": [
       "<Figure size 640x480 with 1 Axes>"
      ]
     },
     "metadata": {},
     "output_type": "display_data"
    }
   ],
   "source": [
    "import matplotlib.pyplot as plt\n",
    "\n",
    "# 绘制直方图\n",
    "plt.hist(data, bins=20, color='#0B8077', alpha=0.7)\n",
    "plt.title('Histogram of Standard Normal Distribution')\n",
    "plt.xlabel('Value')\n",
    "plt.ylabel('Frequency')\n",
    "plt.grid(True)\n",
    "plt.show()"
   ]
  },
  {
   "cell_type": "markdown",
   "id": "60b05ccd-4c57-49df-8ffb-90150ce5d008",
   "metadata": {},
   "source": [
    "## 3.\n",
    "通过 Python 程序计算矩阵$\\begin{bmatrix}    2 & 1 \\\\    4 & 5 \\\\\\end{bmatrix}$的特征值和特征向量。"
   ]
  },
  {
   "cell_type": "code",
   "execution_count": 4,
   "id": "73201140-05b0-4893-b3bb-2d76a82cc9f3",
   "metadata": {
    "tags": []
   },
   "outputs": [
    {
     "name": "stdout",
     "output_type": "stream",
     "text": [
      "Eigenvalues:\n",
      "[1. 6.]\n",
      "\n",
      "Eigenvectors:\n",
      "[[-0.70710678 -0.24253563]\n",
      " [ 0.70710678 -0.9701425 ]]\n"
     ]
    }
   ],
   "source": [
    "matrix = np.array([[2, 1],\n",
    "                   [4, 5]])\n",
    "\n",
    "eigenvalues, eigenvectors = np.linalg.eig(matrix)\n",
    "\n",
    "print(\"Eigenvalues:\")\n",
    "print(eigenvalues)\n",
    "\n",
    "print(\"\\nEigenvectors:\")\n",
    "print(eigenvectors)"
   ]
  },
  {
   "cell_type": "markdown",
   "id": "75e9115d-f00d-4556-bf35-a14897f9f960",
   "metadata": {},
   "source": [
    "## 4.\n",
    "请用编程幂迭代法计算矩阵$\\begin{bmatrix}    2 & 1 \\\\    4 & 5 \\\\\\end{bmatrix}$的最大特征值。"
   ]
  },
  {
   "cell_type": "code",
   "execution_count": 5,
   "id": "03c55f9d-15d3-4398-a16a-e7d089b4a54e",
   "metadata": {
    "tags": []
   },
   "outputs": [
    {
     "name": "stdout",
     "output_type": "stream",
     "text": [
      "Max eigenvl: 5.999999999999999\n",
      "Eigenvcts: [0.24253563 0.9701425 ]\n"
     ]
    }
   ],
   "source": [
    "def power_iteration(matrix, num_iterations=1000):\n",
    "    b_k = np.random.rand(matrix.shape[0])\n",
    "    \n",
    "    for _ in range(num_iterations):\n",
    "        b_k1 = np.dot(matrix, b_k)\n",
    "        \n",
    "        b_k1_norm = np.linalg.norm(b_k1)\n",
    "        b_k = b_k1 / b_k1_norm\n",
    "    \n",
    "    eigenvalue = np.dot(np.dot(b_k, matrix), b_k) / np.dot(b_k, b_k)\n",
    "    \n",
    "    return eigenvalue, b_k\n",
    "\n",
    "matrix = np.array([[2, 1],\n",
    "                   [4, 5]])\n",
    "\n",
    "max_eigenvalue, max_eigenvector = power_iteration(matrix)\n",
    "\n",
    "print(\"Max eigenvl:\", max_eigenvalue)\n",
    "print(\"Eigenvcts:\", max_eigenvector)"
   ]
  },
  {
   "cell_type": "markdown",
   "id": "5dea2407-b01a-4cdf-a005-a596122b50ff",
   "metadata": {},
   "source": [
    "## 5.\n",
    "给出数据矩阵如下，计算协方差矩阵$C$：\n",
    "|Data|1|2|3|\n",
    "|:----|:----|:----|:----|\n",
    "|X|1|-1|4|\n",
    "|Y|2|1|3|\n",
    "|Z|1|3|-1|"
   ]
  },
  {
   "cell_type": "code",
   "execution_count": 6,
   "id": "433b1025-2089-46bf-b143-f0b752f3636b",
   "metadata": {
    "tags": []
   },
   "outputs": [
    {
     "name": "stdout",
     "output_type": "stream",
     "text": [
      "C:\n",
      "[[ 4.22222222  1.66666667 -3.33333333]\n",
      " [ 1.66666667  0.66666667 -1.33333333]\n",
      " [-3.33333333 -1.33333333  2.66666667]]\n"
     ]
    }
   ],
   "source": [
    "data_matrix = np.array([[1, -1, 4],\n",
    "                        [2, 1, 3],\n",
    "                        [1, 3, -1]])\n",
    "\n",
    "covariance_matrix = np.cov(data_matrix, bias=True)\n",
    "\n",
    "print(\"C:\")\n",
    "print(covariance_matrix)\n"
   ]
  },
  {
   "cell_type": "markdown",
   "id": "41c9fca0-7393-4cad-9881-82206120706e",
   "metadata": {},
   "source": [
    "## 6.\n",
    "通过幂迭代法计算上面协方差矩阵的全部特征值和特征向量。"
   ]
  },
  {
   "cell_type": "code",
   "execution_count": 7,
   "id": "d857de6d-890a-441a-a798-07a8802c83c4",
   "metadata": {
    "tags": []
   },
   "outputs": [
    {
     "name": "stdout",
     "output_type": "stream",
     "text": [
      "Eigenvalues of Covariance Matrix:\n",
      "[14.83676981 -2.06987761  4.23310779]\n",
      "\n",
      "All Eigenvalues obtained by Power Iteration:\n",
      "[14.836769809905066, 14.836769809905066, 14.836769809905066]\n",
      "\n",
      "Eigenvectors of Covariance Matrix:\n",
      "[[-0.44930401 -0.80064115  0.39635799]\n",
      " [ 0.25725194  0.30892148  0.91563582]\n",
      " [ 0.85553922 -0.51336271 -0.06716683]]\n",
      "\n",
      "All Eigenvectors obtained by Power Iteration:\n",
      "[array([-0.44930401,  0.25725194,  0.85553922]), array([-0.44930401,  0.25725194,  0.85553922]), array([-0.44930401,  0.25725194,  0.85553922])]\n"
     ]
    }
   ],
   "source": [
    "def power_iteration(matrix, num_iterations=1000):\n",
    "    b_k = np.random.rand(matrix.shape[0])\n",
    "    for _ in range(num_iterations):\n",
    "        b_k1 = np.dot(matrix, b_k)\n",
    "        b_k1_norm = np.linalg.norm(b_k1)\n",
    "        b_k = b_k1 / b_k1_norm\n",
    "    eigenvalue = np.dot(np.dot(b_k, matrix), b_k) / np.dot(b_k, b_k)\n",
    "    return eigenvalue, b_k\n",
    "\n",
    "covariance_matrix = np.array([[2.33333333, 0.33333333, -6.66666667],\n",
    "                              [0.33333333, 4.33333333, 3.33333333],\n",
    "                              [-6.66666667, 3.33333333, 10.33333333]])\n",
    "\n",
    "eigenvalues, eigenvectors = np.linalg.eig(covariance_matrix)\n",
    "\n",
    "all_eigenvalues = []\n",
    "all_eigenvectors = []\n",
    "\n",
    "for i in range(len(eigenvalues)):\n",
    "    eigenvalue, eigenvector = power_iteration(covariance_matrix)\n",
    "    all_eigenvalues.append(eigenvalue)\n",
    "    all_eigenvectors.append(eigenvector)\n",
    "\n",
    "print(\"Eigenvalues of Covariance Matrix:\")\n",
    "print(eigenvalues)\n",
    "\n",
    "print(\"\\nAll Eigenvalues obtained by Power Iteration:\")\n",
    "print(all_eigenvalues)\n",
    "\n",
    "print(\"\\nEigenvectors of Covariance Matrix:\")\n",
    "print(eigenvectors)\n",
    "\n",
    "print(\"\\nAll Eigenvectors obtained by Power Iteration:\")\n",
    "print(all_eigenvectors)"
   ]
  }
 ],
 "metadata": {
  "kernelspec": {
   "display_name": "Python 3 (ipykernel)",
   "language": "python",
   "name": "python3"
  },
  "language_info": {
   "codemirror_mode": {
    "name": "ipython",
    "version": 3
   },
   "file_extension": ".py",
   "mimetype": "text/x-python",
   "name": "python",
   "nbconvert_exporter": "python",
   "pygments_lexer": "ipython3",
   "version": "3.11.5"
  }
 },
 "nbformat": 4,
 "nbformat_minor": 5
}
